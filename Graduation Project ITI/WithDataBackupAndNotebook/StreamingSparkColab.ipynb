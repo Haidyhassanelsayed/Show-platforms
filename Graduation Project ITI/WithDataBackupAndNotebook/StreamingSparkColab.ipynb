{
  "cells": [
    {
      "cell_type": "code",
      "execution_count": null,
      "metadata": {
        "id": "-xIguxSpOqip"
      },
      "outputs": [],
      "source": [
        "import warnings\n",
        "warnings.filterwarnings(\"ignore\")"
      ]
    },
    {
      "cell_type": "code",
      "execution_count": null,
      "metadata": {
        "id": "60SacqyyOqir"
      },
      "outputs": [],
      "source": [
        "import findspark\n",
        "findspark.init()\n",
        "from pyspark.sql import SparkSession\n",
        "from pyspark.sql.functions import *\n",
        "from pyspark.sql.types import StructType, StructField, StringType, IntegerType, DoubleType, DateType, FloatType"
      ]
    },
    {
      "cell_type": "code",
      "execution_count": null,
      "metadata": {
        "id": "pKvA19sEOqis"
      },
      "outputs": [],
      "source": [
        "spark= SparkSession.builder\\\n",
        "    .config(\"spark.jars.packages\", \"org.apache.spark:spark-sql-kafka-0-10_2.12:3.3.1\")\\\n",
        "    .config(\"spark.jars\", \"sqljdbc42.jar\")\\\n",
        "    .getOrCreate()"
      ]
    },
    {
      "cell_type": "code",
      "execution_count": null,
      "metadata": {
        "colab": {
          "base_uri": "https://localhost:8080/",
          "height": 219
        },
        "id": "sCsKd8GzOqit",
        "outputId": "fae58764-93e8-45a6-c07a-d9ae8b32f24c"
      },
      "outputs": [],
      "source": [
        "spark"
      ]
    },
    {
      "cell_type": "code",
      "execution_count": null,
      "metadata": {
        "id": "_oHaSFeDOqiu"
      },
      "outputs": [],
      "source": [
        "df = spark \\\n",
        "    .readStream \\\n",
        "    .format(\"kafka\") \\\n",
        "    .option(\"kafka.bootstrap.servers\", \"localhost:9092\") \\\n",
        "    .option(\"subscribe\", \"movies\") \\\n",
        "    .option(\"enable.auto.commit\", True) \\\n",
        "    .option(\"auto.offset.reset\", \"earliest\") \\\n",
        "    .option(\"startingOffsets\", \"earliest\") \\\n",
        "    .option(\"auto.commit.interval.ms\", 5000) \\\n",
        "    .load()"
      ]
    },
    {
      "cell_type": "code",
      "execution_count": null,
      "metadata": {
        "colab": {
          "base_uri": "https://localhost:8080/"
        },
        "id": "WXEBXu9yOqiv",
        "outputId": "08b39f49-d513-433e-fef0-d3413034793e"
      },
      "outputs": [],
      "source": [
        "df.printSchema()"
      ]
    },
    {
      "cell_type": "code",
      "execution_count": null,
      "metadata": {
        "id": "znxCCeZ1Oqiw"
      },
      "outputs": [],
      "source": [
        "schema = StructType([\n",
        "    StructField(\"show_id\", StringType(), True),\n",
        "    StructField(\"type\", StringType(), True),\n",
        "    StructField(\"title\", StringType(), True),\n",
        "    StructField(\"director\", StringType(), True),\n",
        "    StructField(\"cast\", StringType(), True),\n",
        "    StructField(\"country\", StringType(), True),\n",
        "    StructField(\"date_added\", StringType(), True),\n",
        "    StructField(\"release_year\", StringType(), True),\n",
        "    StructField(\"rating\", StringType(), True),\n",
        "    StructField(\"duration\", StringType(), True),\n",
        "    StructField(\"listed_in\", StringType(), True),\n",
        "    StructField(\"description\", StringType(), True),\n",
        "    StructField(\"source\", StringType(), True),\n",
        "    StructField(\"total_views\" , StringType(), True),\n",
        "    StructField(\"user_reviews\", StringType(), True),\n",
        "    StructField(\"user_rating\", StringType(), True),\n",
        "])"
      ]
    },
    {
      "cell_type": "code",
      "execution_count": null,
      "metadata": {
        "id": "u-iZ-yxlOqix"
      },
      "outputs": [],
      "source": [
        "json_df = df.select(from_json(col(\"value\").cast(\"string\"), schema).alias(\"data\")).select(\"data.*\")"
      ]
    },
    {
      "cell_type": "code",
      "execution_count": null,
      "metadata": {
        "colab": {
          "base_uri": "https://localhost:8080/"
        },
        "id": "7vY7ivaHOqiy",
        "outputId": "a4538535-8bca-414a-c5e4-00927e9c5a0a"
      },
      "outputs": [],
      "source": [
        "json_df.printSchema()"
      ]
    },
    {
      "cell_type": "code",
      "execution_count": null,
      "metadata": {
        "id": "ekZsGg23Oqiz"
      },
      "outputs": [],
      "source": [
        "Updateemptystring = json_df.replace(\"\", None)\n"
      ]
    },
    {
      "cell_type": "code",
      "execution_count": null,
      "metadata": {
        "id": "X0tQE-whOqiz"
      },
      "outputs": [],
      "source": [
        "removewhitespace = Updateemptystring.select([ltrim(c).alias(c) for c in Updateemptystring.columns])"
      ]
    },
    {
      "cell_type": "code",
      "execution_count": null,
      "metadata": {
        "id": "6wtctWOoOqiz"
      },
      "outputs": [],
      "source": [
        "drop_date_added = removewhitespace.drop(\"date_added\")"
      ]
    },
    {
      "cell_type": "code",
      "execution_count": null,
      "metadata": {
        "id": "zBzgk1fC1xnj"
      },
      "outputs": [],
      "source": [
        "explode_listed_in= drop_date_added.withColumn(\"Category\", explode(split(\"listed_in\", \",\"))).drop(\"listed_in\")"
      ]
    },
    {
      "cell_type": "code",
      "execution_count": null,
      "metadata": {
        "colab": {
          "base_uri": "https://localhost:8080/"
        },
        "id": "xEoZmmhYQO5V",
        "outputId": "22a4fbc8-100c-4fb7-8805-7e63624869a8"
      },
      "outputs": [],
      "source": [
        "explode_listed_in.printSchema()"
      ]
    },
    {
      "cell_type": "code",
      "execution_count": null,
      "metadata": {
        "id": "7yPL5RPK1xwV"
      },
      "outputs": [],
      "source": [
        "director_nulls= explode_listed_in.replace(\"null\", \"unknown\")"
      ]
    },
    {
      "cell_type": "code",
      "execution_count": null,
      "metadata": {
        "colab": {
          "base_uri": "https://localhost:8080/"
        },
        "id": "xTxRrxOUQb3e",
        "outputId": "3be10546-5ed1-412a-99a8-b1bcd5bc2800"
      },
      "outputs": [],
      "source": [
        "director_nulls.printSchema()"
      ]
    },
    {
      "cell_type": "code",
      "execution_count": null,
      "metadata": {
        "id": "XGKvq-B335K_"
      },
      "outputs": [],
      "source": [
        "cast_nulls= director_nulls.replace(\"null\", \"unknown\")"
      ]
    },
    {
      "cell_type": "code",
      "execution_count": null,
      "metadata": {
        "colab": {
          "base_uri": "https://localhost:8080/"
        },
        "id": "aDuyT8MyRBM8",
        "outputId": "193dc3a9-5e01-43ba-95aa-cdb35aeae6cd"
      },
      "outputs": [],
      "source": [
        "cast_nulls.printSchema()"
      ]
    },
    {
      "cell_type": "code",
      "execution_count": null,
      "metadata": {
        "id": "V30VUWhm8ACy"
      },
      "outputs": [],
      "source": [
        "# Filter out rows where 'director' and 'cast' columns that are fully numeric (integers)\n",
        "numeric_pattern = \"^[0-9]+$\"\n",
        "\n",
        "filtered_df = cast_nulls.filter(\n",
        "    ~(\n",
        "        col(\"director\").rlike(numeric_pattern) &\n",
        "        col(\"cast\").rlike(numeric_pattern)\n",
        "    )\n",
        ")"
      ]
    },
    {
      "cell_type": "code",
      "execution_count": null,
      "metadata": {
        "colab": {
          "base_uri": "https://localhost:8080/"
        },
        "id": "1odL40lC8HxF",
        "outputId": "8a437883-59bc-4888-bdaa-32687b0ebe21"
      },
      "outputs": [],
      "source": [
        "filtered_df.printSchema()"
      ]
    },
    {
      "cell_type": "code",
      "execution_count": null,
      "metadata": {
        "id": "tVqzzivm35a6"
      },
      "outputs": [],
      "source": [
        "description_nulls= filtered_df.replace(\"null\", \"unknown\")"
      ]
    },
    {
      "cell_type": "code",
      "execution_count": null,
      "metadata": {
        "colab": {
          "base_uri": "https://localhost:8080/"
        },
        "id": "UnUGjUWgQ3DE",
        "outputId": "36e7105e-79b4-43ae-dcd2-8984ad5a4b95"
      },
      "outputs": [],
      "source": [
        "description_nulls.printSchema()"
      ]
    },
    {
      "cell_type": "code",
      "execution_count": null,
      "metadata": {
        "id": "sn1cuO-NOqi0"
      },
      "outputs": [],
      "source": [
        "casting_year = description_nulls.withColumn(\"release_year\", col(\"release_year\").cast(IntegerType()))"
      ]
    },
    {
      "cell_type": "code",
      "execution_count": null,
      "metadata": {
        "colab": {
          "base_uri": "https://localhost:8080/"
        },
        "id": "DwGRM00b_wwn",
        "outputId": "e5768cbb-1712-498a-b44c-0af3887d3f39"
      },
      "outputs": [],
      "source": [
        "casting_year.printSchema()"
      ]
    },
    {
      "cell_type": "code",
      "execution_count": null,
      "metadata": {
        "id": "WCCEHNoOAywL"
      },
      "outputs": [],
      "source": [
        "# Define thresholds for classification\n",
        "short_threshold = 90   # minutes\n",
        "medium_threshold = 150 # minutes"
      ]
    },
    {
      "cell_type": "code",
      "execution_count": null,
      "metadata": {
        "id": "VuCvNKdsAzIO"
      },
      "outputs": [],
      "source": [
        "# Classify movies based on duration directly\n",
        "bins_movies = casting_year.withColumn(\n",
        "    \"movie_duration_category\",\n",
        "    when(regexp_extract(col(\"duration\"), r\"(\\d+)\", 1).cast(\"integer\") <= short_threshold, \"short\")\n",
        "    .when(\n",
        "        (regexp_extract(col(\"duration\"), r\"(\\d+)\", 1).cast(\"integer\") > short_threshold) &\n",
        "        (regexp_extract(col(\"duration\"), r\"(\\d+)\", 1).cast(\"integer\") <= medium_threshold),\n",
        "        \"medium\"\n",
        "    )\n",
        "    .otherwise(\"long\")\n",
        ")"
      ]
    },
    {
      "cell_type": "code",
      "execution_count": null,
      "metadata": {
        "colab": {
          "base_uri": "https://localhost:8080/"
        },
        "id": "p6ejo6aUEXNI",
        "outputId": "54652753-f0b1-406c-bf62-50e7489ca980"
      },
      "outputs": [],
      "source": [
        "bins_movies.printSchema()"
      ]
    },
    {
      "cell_type": "code",
      "execution_count": null,
      "metadata": {
        "id": "E67c9zGfN3xE"
      },
      "outputs": [],
      "source": [
        "country_nulls= bins_movies.replace(\"null\", \"unknown\")"
      ]
    },
    {
      "cell_type": "code",
      "execution_count": null,
      "metadata": {
        "id": "4ItAkP26OVLB"
      },
      "outputs": [],
      "source": [
        "duration_nulls= country_nulls.replace(\"null\", \"unknown\")"
      ]
    },
    {
      "cell_type": "code",
      "execution_count": null,
      "metadata": {
        "colab": {
          "base_uri": "https://localhost:8080/"
        },
        "id": "bJDyYLe0OepF",
        "outputId": "41d9fb84-d338-41cc-ac5b-76098d8bb0cb"
      },
      "outputs": [],
      "source": [
        "duration_nulls.printSchema()"
      ]
    },
    {
      "cell_type": "code",
      "execution_count": null,
      "metadata": {},
      "outputs": [],
      "source": [
        "# Casting the 'total_views' and 'user_reviews column to IntegerType and 'user_rating' to FloatType\n",
        "casting_views = duration_nulls.withColumn(\"total_views\", col(\"total_views\").cast(IntegerType()))\n",
        "Casting_reviews = casting_views.withColumn(\"user_reviews\", col(\"user_reviews\").cast(IntegerType()))\n",
        "Casting_rating = Casting_reviews.withColumn(\"user_rating\", col(\"user_rating\").cast(FloatType()))"
      ]
    },
    {
      "cell_type": "code",
      "execution_count": null,
      "metadata": {},
      "outputs": [],
      "source": [
        "Casting_rating.printSchema()"
      ]
    },
    {
      "cell_type": "code",
      "execution_count": null,
      "metadata": {
        "id": "23iHJGx-Oqi0"
      },
      "outputs": [],
      "source": [
        "def write_to_sql_server(batch_df, batch_id):\n",
        "    try:\n",
        "        batch_df.write \\\n",
        "            .format(\"jdbc\") \\\n",
        "            .option(\"url\", \"jdbc:sqlserver://192.168.1.11:1433;databaseName=movies_DB;user=mostafa;password=mostafa7amdy;\") \\\n",
        "            .option(\"dbtable\", \"movies\") \\\n",
        "            .option(\"driver\", \"com.microsoft.sqlserver.jdbc.SQLServerDriver\") \\\n",
        "            .mode(\"append\")\\\n",
        "            .save()\n",
        "    except Exception as e:\n",
        "        print(str(e))\n",
        "\n",
        "# Start the stream and write to SQL Server\n",
        "Casting_rating.writeStream \\\n",
        "    .foreachBatch(write_to_sql_server) \\\n",
        "    .outputMode(\"append\") \\\n",
        "    .start() \n",
        "\n",
        "    \n",
        "#query = Casting_rating.writeStream.outputMode(\"append\").format(\"console\").start()"
      ]
    },
    {
      "cell_type": "code",
      "execution_count": 34,
      "metadata": {
        "colab": {
          "base_uri": "https://localhost:8080/"
        },
        "id": "ExTdBQliFtP-",
        "outputId": "6eeb8148-6346-4316-a887-2c2dbd5ae384"
      },
      "outputs": [
        {
          "name": "stderr",
          "output_type": "stream",
          "text": [
            "24/09/19 20:22:43 INFO Executor: Finished task 1.0 in stage 907.0 (TID 1653). 1843 bytes result sent to driver\n",
            "24/09/19 20:22:43 INFO TaskSetManager: Finished task 1.0 in stage 907.0 (TID 1653) in 786 ms on 172.18.123.199 (executor driver) (1/2)\n",
            "24/09/19 20:22:43 INFO Executor: Finished task 0.0 in stage 907.0 (TID 1652). 1843 bytes result sent to driver\n",
            "24/09/19 20:22:43 INFO TaskSetManager: Finished task 0.0 in stage 907.0 (TID 1652) in 839 ms on 172.18.123.199 (executor driver) (2/2)\n",
            "24/09/19 20:22:43 INFO TaskSchedulerImpl: Removed TaskSet 907.0, whose tasks have all completed, from pool \n",
            "24/09/19 20:22:43 INFO DAGScheduler: ResultStage 907 (start at DirectMethodHandleAccessor.java:103) finished in 0.847 s\n",
            "24/09/19 20:22:43 INFO DAGScheduler: Job 907 is finished. Cancelling potential speculative or zombie tasks for this job\n",
            "24/09/19 20:22:43 INFO TaskSchedulerImpl: Killing all running tasks in stage 907: Stage finished\n",
            "24/09/19 20:22:43 INFO DAGScheduler: Job 907 finished: start at DirectMethodHandleAccessor.java:103, took 0.848640 s\n",
            "24/09/19 20:22:43 INFO CheckpointFileManager: Writing atomically to file:/tmp/temporary-231806f9-aa6b-48ee-b05a-1f47247eca4e/commits/907 using temp file file:/tmp/temporary-231806f9-aa6b-48ee-b05a-1f47247eca4e/commits/.907.184a0937-849f-49eb-8f81-595763ace436.tmp\n",
            "24/09/19 20:22:43 INFO CheckpointFileManager: Renamed temp file file:/tmp/temporary-231806f9-aa6b-48ee-b05a-1f47247eca4e/commits/.907.184a0937-849f-49eb-8f81-595763ace436.tmp to file:/tmp/temporary-231806f9-aa6b-48ee-b05a-1f47247eca4e/commits/907\n",
            "24/09/19 20:22:43 INFO MicroBatchExecution: Streaming query made progress: {\n",
            "  \"id\" : \"02e899e8-4355-40bc-920c-f0838c91ad09\",\n",
            "  \"runId\" : \"cab2a16e-bcb9-4ff6-9ca9-f6da52485dd2\",\n",
            "  \"name\" : null,\n",
            "  \"timestamp\" : \"2024-09-19T17:22:40.421Z\",\n",
            "  \"batchId\" : 907,\n",
            "  \"numInputRows\" : 7,\n",
            "  \"inputRowsPerSecond\" : 2.8937577511368335,\n",
            "  \"processedRowsPerSecond\" : 2.3608768971332212,\n",
            "  \"durationMs\" : {\n",
            "    \"addBatch\" : 2064,\n",
            "    \"commitOffsets\" : 266,\n",
            "    \"getBatch\" : 0,\n",
            "    \"latestOffset\" : 34,\n",
            "    \"queryPlanning\" : 442,\n",
            "    \"triggerExecution\" : 2965,\n",
            "    \"walCommit\" : 146\n",
            "  },\n",
            "  \"stateOperators\" : [ ],\n",
            "  \"sources\" : [ {\n",
            "    \"description\" : \"KafkaV2[Subscribe[movies]]\",\n",
            "    \"startOffset\" : {\n",
            "      \"movies\" : {\n",
            "        \"2\" : 0,\n",
            "        \"1\" : 18482,\n",
            "        \"3\" : 50412,\n",
            "        \"0\" : 0\n",
            "      }\n",
            "    },\n",
            "    \"endOffset\" : {\n",
            "      \"movies\" : {\n",
            "        \"2\" : 0,\n",
            "        \"1\" : 18484,\n",
            "        \"3\" : 50417,\n",
            "        \"0\" : 0\n",
            "      }\n",
            "    },\n",
            "    \"latestOffset\" : {\n",
            "      \"movies\" : {\n",
            "        \"2\" : 0,\n",
            "        \"1\" : 18484,\n",
            "        \"3\" : 50417,\n",
            "        \"0\" : 0\n",
            "      }\n",
            "    },\n",
            "    \"numInputRows\" : 7,\n",
            "    \"inputRowsPerSecond\" : 2.8937577511368335,\n",
            "    \"processedRowsPerSecond\" : 2.3608768971332212,\n",
            "    \"metrics\" : {\n",
            "      \"avgOffsetsBehindLatest\" : \"0.0\",\n",
            "      \"maxOffsetsBehindLatest\" : \"0\",\n",
            "      \"minOffsetsBehindLatest\" : \"0\"\n",
            "    }\n",
            "  } ],\n",
            "  \"sink\" : {\n",
            "    \"description\" : \"ForeachBatchSink\",\n",
            "    \"numOutputRows\" : -1\n",
            "  }\n",
            "}\n",
            "24/09/19 20:22:43 INFO CheckpointFileManager: Writing atomically to file:/tmp/temporary-231806f9-aa6b-48ee-b05a-1f47247eca4e/offsets/908 using temp file file:/tmp/temporary-231806f9-aa6b-48ee-b05a-1f47247eca4e/offsets/.908.fc66947d-f5b5-4803-9c79-1db1aaa18f96.tmp\n",
            "24/09/19 20:22:43 INFO CheckpointFileManager: Renamed temp file file:/tmp/temporary-231806f9-aa6b-48ee-b05a-1f47247eca4e/offsets/.908.fc66947d-f5b5-4803-9c79-1db1aaa18f96.tmp to file:/tmp/temporary-231806f9-aa6b-48ee-b05a-1f47247eca4e/offsets/908\n",
            "24/09/19 20:22:43 INFO MicroBatchExecution: Committed offsets for batch 908. Metadata OffsetSeqMetadata(0,1726766563411,Map(spark.sql.streaming.stateStore.providerClass -> org.apache.spark.sql.execution.streaming.state.HDFSBackedStateStoreProvider, spark.sql.streaming.join.stateFormatVersion -> 2, spark.sql.streaming.stateStore.compression.codec -> lz4, spark.sql.streaming.stateStore.rocksdb.formatVersion -> 5, spark.sql.streaming.statefulOperator.useStrictDistribution -> true, spark.sql.streaming.flatMapGroupsWithState.stateFormatVersion -> 2, spark.sql.streaming.multipleWatermarkPolicy -> min, spark.sql.streaming.aggregation.stateFormatVersion -> 2, spark.sql.shuffle.partitions -> 200))\n",
            "24/09/19 20:22:44 INFO KafkaOffsetReaderAdmin: Partitions added: Map()\n",
            "24/09/19 20:22:44 INFO KafkaOffsetReaderAdmin: Partitions added: Map()\n",
            "24/09/19 20:22:45 INFO KafkaOffsetReaderAdmin: Partitions added: Map()\n",
            "24/09/19 20:22:45 INFO KafkaOffsetReaderAdmin: Partitions added: Map()\n"
          ]
        }
      ],
      "source": [
        "Casting_rating.isStreaming"
      ]
    },
    {
      "cell_type": "code",
      "execution_count": null,
      "metadata": {},
      "outputs": [],
      "source": []
    },
    {
      "cell_type": "code",
      "execution_count": null,
      "metadata": {},
      "outputs": [],
      "source": []
    }
  ],
  "metadata": {
    "colab": {
      "provenance": []
    },
    "kernelspec": {
      "display_name": "base",
      "language": "python",
      "name": "python3"
    },
    "language_info": {
      "codemirror_mode": {
        "name": "ipython",
        "version": 3
      },
      "file_extension": ".py",
      "mimetype": "text/x-python",
      "name": "python",
      "nbconvert_exporter": "python",
      "pygments_lexer": "ipython3",
      "version": "3.12.4"
    }
  },
  "nbformat": 4,
  "nbformat_minor": 0
}
